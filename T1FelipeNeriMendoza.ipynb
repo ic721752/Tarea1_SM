{
 "cells": [
  {
   "cell_type": "markdown",
   "metadata": {},
   "source": [
    "Hola que tal, mi nombre es *Felipe Neri Mendoza González* y en esta tarea explicare la importancia de **Python** basandome en los últimos dos links que nos dio nuestro profesor"
   ]
  },
  {
   "cell_type": "markdown",
   "metadata": {},
   "source": [
    "[Link 1](https://www.economist.com/science-and-technology/2018/07/19/python-has-brought-computer-programming-to-a-vast-new-audience)\n",
    "\n",
    "> Python has brought computer programming to a vast new audience\n"
   ]
  },
  {
   "cell_type": "markdown",
   "metadata": {},
   "source": [
    "Guido Van Rossum fue un científico de computadora y creador del programa Python, en sus ideas novedosas para hacer este nuevo programa fue que debería permitir a los usuarios crear sus propios paquetes de módulos de codificación para fines especiales, que luego podrían ponerse a disposición de otros para formar la base de nuevos programas, el nombre del programa proviene de un grupo británico dedicado a la comedia con este mismo nombre."
   ]
  },
  {
   "cell_type": "code",
   "execution_count": null,
   "metadata": {},
   "outputs": [],
   "source": []
  }
 ],
 "metadata": {
  "kernelspec": {
   "display_name": "Python 3",
   "language": "python",
   "name": "python3"
  },
  "language_info": {
   "codemirror_mode": {
    "name": "ipython",
    "version": 3
   },
   "file_extension": ".py",
   "mimetype": "text/x-python",
   "name": "python",
   "nbconvert_exporter": "python",
   "pygments_lexer": "ipython3",
   "version": "3.7.3"
  }
 },
 "nbformat": 4,
 "nbformat_minor": 2
}
